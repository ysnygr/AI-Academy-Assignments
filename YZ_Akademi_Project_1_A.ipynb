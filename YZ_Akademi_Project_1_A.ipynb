{
 "cells": [
  {
   "cell_type": "code",
   "execution_count": 1,
   "id": "7af9f6df",
   "metadata": {},
   "outputs": [],
   "source": [
    "import numpy as np\n",
    "from sklearn.linear_model import Ridge\n",
    "from sklearn.metrics import r2_score\n",
    "from sklearn import model_selection\n",
    "from sklearn.linear_model import RidgeCV\n",
    "from sklearn.model_selection import train_test_split\n",
    "from sklearn.metrics import mean_squared_error\n",
    "from sklearn.preprocessing import StandardScaler"
   ]
  },
  {
   "cell_type": "code",
   "execution_count": 2,
   "id": "abc67eb0",
   "metadata": {},
   "outputs": [],
   "source": [
    "import pandas as pd\n",
    "df = pd.read_csv(\"/home/yasin/Downloads/ENB2012_data.csv\")\n",
    "df.columns = [\"Relative_Compactness\", \"Surface_Area\", \"Wall_Area\", \"Roof_Area\", \"Overall_Height\",\"Orientation\", \"Glazing_Area\", \"Glazing_Area_Distribution\", \n",
    "              \"Heating_Load\",\"Cooling_Load\"] #Rename columns\n"
   ]
  },
  {
   "cell_type": "code",
   "execution_count": 3,
   "id": "d551a2a9",
   "metadata": {},
   "outputs": [],
   "source": [
    "X = df.drop([\"Heating_Load\",\"Cooling_Load\"], axis=1) #dependent variables\n",
    "y = df[[\"Heating_Load\"]] #independent variable\n",
    "X_train, X_test, y_train, y_test = train_test_split(X, y, test_size = 0.25, random_state = 42) # Train test split\n"
   ]
  },
  {
   "cell_type": "code",
   "execution_count": 4,
   "id": "b19ae24f",
   "metadata": {},
   "outputs": [
    {
     "data": {
      "text/plain": [
       "Ridge(alpha=0.01)"
      ]
     },
     "execution_count": 4,
     "metadata": {},
     "output_type": "execute_result"
    }
   ],
   "source": [
    "ridge_model = Ridge(alpha = 0.01).fit(X_train, y_train)\n",
    "ridge_model"
   ]
  },
  {
   "cell_type": "code",
   "execution_count": 5,
   "id": "af7a4577",
   "metadata": {},
   "outputs": [],
   "source": [
    "ridge_model = Ridge().fit(X_train, y_train)"
   ]
  },
  {
   "cell_type": "code",
   "execution_count": 6,
   "id": "82548605",
   "metadata": {
    "scrolled": true
   },
   "outputs": [
    {
     "name": "stdout",
     "output_type": "stream",
     "text": [
      "MSE: 2.973325298057377\n",
      "MAE: 1.724333290885894\n"
     ]
    }
   ],
   "source": [
    "y_pred = ridge_model.predict(X_train)\n",
    "#train error\n",
    "MSE = np.sqrt(mean_squared_error(y_train, y_pred))\n",
    "print(\"MSE:\",MSE)\n",
    "MAE= np.sqrt(MSE)\n",
    "print(\"MAE:\" ,MAE)"
   ]
  }
 ],
 "metadata": {
  "kernelspec": {
   "display_name": "Python 3 (ipykernel)",
   "language": "python",
   "name": "python3"
  },
  "language_info": {
   "codemirror_mode": {
    "name": "ipython",
    "version": 3
   },
   "file_extension": ".py",
   "mimetype": "text/x-python",
   "name": "python",
   "nbconvert_exporter": "python",
   "pygments_lexer": "ipython3",
   "version": "3.8.8"
  }
 },
 "nbformat": 4,
 "nbformat_minor": 5
}
