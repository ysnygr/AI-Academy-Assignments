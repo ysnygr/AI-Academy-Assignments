{
 "cells": [
  {
   "cell_type": "code",
   "execution_count": 45,
   "id": "9c81a0e4",
   "metadata": {},
   "outputs": [
    {
     "name": "stdout",
     "output_type": "stream",
     "text": [
      "[2, 1]\n"
     ]
    }
   ],
   "source": [
    "Alice = [17,28,30] \n",
    "\n",
    "Bob   = [99,16,8] \n",
    "\n",
    "Output = [0,0]\n",
    "\n",
    "for i in range(0,3):\n",
    "   \n",
    "    if Alice[i] > Bob[i]:        # Alice receives 1 point.\n",
    "\n",
    "        Output[0] = Output[0]+1 \n",
    "    \n",
    "    elif Alice[i] < Bob[i]:      # Bob receives 1 point.\n",
    "    \n",
    "        Output[1] = Output[1]+1\n",
    "    else:\n",
    "        pass                     # Nobody receives 1 point.\n",
    "        \n",
    "print(Output)"
   ]
  }
 ],
 "metadata": {
  "kernelspec": {
   "display_name": "Python 3 (ipykernel)",
   "language": "python",
   "name": "python3"
  },
  "language_info": {
   "codemirror_mode": {
    "name": "ipython",
    "version": 3
   },
   "file_extension": ".py",
   "mimetype": "text/x-python",
   "name": "python",
   "nbconvert_exporter": "python",
   "pygments_lexer": "ipython3",
   "version": "3.8.8"
  }
 },
 "nbformat": 4,
 "nbformat_minor": 5
}
